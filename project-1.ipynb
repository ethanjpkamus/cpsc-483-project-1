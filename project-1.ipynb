{
 "cells": [
  {
   "cell_type": "markdown",
   "id": "716422e2-f811-4688-a5ea-7c9bfa24b3c9",
   "metadata": {},
   "source": [
    "# Fall 2021 - Section 01 - Project 1\n",
    "\n",
    "__Members:__\n",
    "* Ethan Kamus\n",
    "* Nathaniel Matthew Marquez\n",
    "* Rebecca Lee\n",
    "\n",
    "__Goal:__ Using Python and Jupyter to implement algorithms for outlier detection "
   ]
  },
  {
   "cell_type": "markdown",
   "id": "5e44f1e0-6c62-4410-ae47-5bdb9a87f421",
   "metadata": {},
   "source": [
    "## Experiment 1\n",
    "\n",
    "#### __1. Use the csv module to load in the dataset of participants:__\n",
    "* The csv module is used to open the file of the participants dataset and load in the dataset.\n",
    "* With csv.DictReader the data loaded in creates dictionary objects where the column headers are the keys and the values to the keys are the data recorded under each column. The result will be an array of dictionary objects."
   ]
  },
  {
   "cell_type": "code",
   "execution_count": 9,
   "id": "5c91b407-9b52-4801-bcd4-49072738578e",
   "metadata": {},
   "outputs": [],
   "source": [
    "import csv\n",
    "\n",
    "participants = []\n",
    "with open('participants.csv', newline='') as csvfile:\n",
    "    reader = csv.DictReader(csvfile)\n",
    "    for row in reader:\n",
    "        participants.append(row)\n"
   ]
  },
  {
   "cell_type": "markdown",
   "id": "38c62f14-9f99-4a61-9210-dcc5e854e31c",
   "metadata": {},
   "source": [
    "## Experiment 2\n",
    "\n",
    "#### __2. Using the statistics module, find the mean and median for Week 1's data:__\n",
    "* Assigned to the variable __*wk1*__: using list comprehension we iterate through the array of participant objects created from above and grabbing the values where the key is 'Week 1', which was the column header, and casting it to int since it was read in as a string.\n",
    "* We grab the mean and median of all the values stored in the array for week 1 with the use of the statistics module defined methods. "
   ]
  },
  {
   "cell_type": "code",
   "execution_count": 10,
   "id": "6a0335fa-bf5e-4f48-a38b-df956bcc1876",
   "metadata": {},
   "outputs": [
    {
     "data": {
      "text/plain": [
       "(161, 175)"
      ]
     },
     "execution_count": 10,
     "metadata": {},
     "output_type": "execute_result"
    }
   ],
   "source": [
    "import statistics\n",
    "\n",
    "wk1 = [int(m['Week 1']) for m in participants]\n",
    "\n",
    "wk1_mean = statistics.mean(wk1)\n",
    "wk1_median = statistics.median(wk1)\n",
    "\n",
    "wk1_mean, wk1_median"
   ]
  },
  {
   "cell_type": "markdown",
   "id": "9dc70adf-e9e5-40ed-88fb-2282cf83134c",
   "metadata": {},
   "source": [
    "## Experiment 3\n",
    "#### __3.Use statistics module to get the quartiles of the Week 1 data points__\n",
    "To get quartiles of the week 1 values we use the quantiles method in the statistics module and set n = 4 in order to get the quartiles, and stored it in an array variable __*quartiles*__"
   ]
  },
  {
   "cell_type": "code",
   "execution_count": 11,
   "id": "eea136d8-77f1-4056-a458-0c99404fe808",
   "metadata": {},
   "outputs": [
    {
     "data": {
      "text/plain": [
       "[174.0, 175.0, 179.0]"
      ]
     },
     "execution_count": 11,
     "metadata": {},
     "output_type": "execute_result"
    }
   ],
   "source": [
    "quartiles = [q for q in statistics.quantiles(wk1, n = 4)]\n",
    "\n",
    "quartiles"
   ]
  },
  {
   "cell_type": "markdown",
   "id": "24151637-c88f-4d3d-bf33-8ded1f0a51e5",
   "metadata": {},
   "source": [
    "## Experiment 4\n",
    "__4. Using Turkey's fences method, find the outlers in the data set, where k = 1.5 will indicate an \"outlier\"__\n",
    "$$ [Q1 - k(Q3 - Q1), Q3 + k(Q3 - Q1)] $$\n",
    "\n",
    "* The 'Turkey fences' method observes outliers based on measuring the IQR (interquartile range) of the observed data, same method for boxplots. Q1 is the lower quartile and Q3 is the upper bound, and we set k = 1.5 as John Turkey suggested that would indicate \"outliers\". \n",
    "* Using this method we assign the lower and upper quartile values from Experiment 3's results, and then apply the formula listed to get the upper and lower outlier bounds.\n",
    "* To get the outliers we loop through the array of week 1 values and pick out any that were outside the range. "
   ]
  },
  {
   "cell_type": "code",
   "execution_count": 12,
   "id": "758632be-8fb6-4b28-952b-a128a4cf513c",
   "metadata": {},
   "outputs": [
    {
     "data": {
      "text/plain": [
       "[77, 51, 9, 24]"
      ]
     },
     "execution_count": 12,
     "metadata": {},
     "output_type": "execute_result"
    }
   ],
   "source": [
    "k = 1.5\n",
    "q1 = quartiles[0]\n",
    "q2 = quartiles[1]\n",
    "q3 = quartiles[2]\n",
    "\n",
    "turkey_fence = [(q1 - k*(q3 - q1)), (q3 + k*(q3 - q1))]\n",
    "\n",
    "outliers = [i for i in wk1 if (i < turkey_fence[0] or i > turkey_fence[1])]\n",
    "\n",
    "outliers"
   ]
  },
  {
   "cell_type": "markdown",
   "id": "ad92fb51-3457-424c-9601-a234b70e1f88",
   "metadata": {},
   "source": [
    "## Experiment 5\n",
    "\n",
    "__5. Compute the standard deviation for Week 1 dataset to find outliers using the 68-95-99.7 rule, then compare with outlier results found with Turkey Method in Experiment 4.__ \n",
    "\n",
    "$$ Pr(\\mu - 3\\sigma \\leq X \\leq \\mu + 3\\sigma) $$\n",
    "\n",
    "* The 68-95-99.7 rule is another method used on normally distributed sets of data to detect outliers, where nearly all values will lie within three standard deviations of the mean. The formula above for 3 standard deviations gives the rule for 99.7% probability as it will be near certainty. \n",
    "* We get the standard deviation from the statistics module for the dataset in week 1, and then loop through the week 1 values to assign into the __*outliers_sd*__ array any of the values which are greater than or equal to/less than or equal to 3 standard deviations from the mean."
   ]
  },
  {
   "cell_type": "code",
   "execution_count": 13,
   "id": "632ece8c-996e-4a3e-98b8-340c2957f028",
   "metadata": {},
   "outputs": [
    {
     "data": {
      "text/plain": [
       "[9, 24]"
      ]
     },
     "execution_count": 13,
     "metadata": {},
     "output_type": "execute_result"
    }
   ],
   "source": [
    "sd = statistics.stdev(wk1)\n",
    "outliers_sd = [j for j in wk1 if (j <= wk1_mean - 3*sd or j >= wk1_mean + 3*sd)]\n",
    "\n",
    "outliers_sd"
   ]
  },
  {
   "cell_type": "markdown",
   "id": "ca05575b-170d-4769-9dd1-80020080f858",
   "metadata": {},
   "source": [
    "#### Results:\n",
    "The outliers with the Turkey Fence IQR method were different from the ones received with the 99.7% rule. When following empirical rule of normally distributed dataset where there is 99.7% probability that the values lie within 3 standard deviations from the mean, then we only receive two outliers of [9, 24]. With the Turkey Fence method there were 4 outliers of [77, 51, 9, 24]. If we had instead used the 68% rule of only one standard deviation, then we would have the same result. "
   ]
  },
  {
   "cell_type": "markdown",
   "id": "429b8814-50f9-4d73-8b98-60927616b162",
   "metadata": {},
   "source": [
    "## Experiment 6\n",
    "\n",
    "__6. Create a function tardy_iqr() to return a list of the names for the outliers found with Turkey Fence method.__\n",
    "\n",
    "Function accepts a parameter of 'col_name' which accepts a string of one of the columns in participants.csv and will then calculate the outliers with the Turkey Fence method and return a list of the names of the students with the matching outlier values. "
   ]
  },
  {
   "cell_type": "code",
   "execution_count": 14,
   "id": "632b52a6-6b61-4177-936b-88963e2f4bfb",
   "metadata": {},
   "outputs": [
    {
     "data": {
      "text/plain": [
       "\"Week 1: ['Adrian Ellison', 'Tayla Sparrow', 'Owain Emerson', 'Alaya Dickinson']\""
      ]
     },
     "execution_count": 14,
     "metadata": {},
     "output_type": "execute_result"
    }
   ],
   "source": [
    "def tardy_iqr(col_name):\n",
    "    d = [int(m[col_name]) for m in participants]\n",
    "    d_mean = statistics.mean(d)\n",
    "    d_median = statistics.median(d)\n",
    "    \n",
    "    quartiles = [q for q in statistics.quantiles(d, n = 4)]\n",
    "    q1 = quartiles[0]\n",
    "    q2 = quartiles[1]\n",
    "    q3 = quartiles[2]\n",
    "    \n",
    "    turkey_fence = [(q1 - k*(q3 - q1)), (q3 + k*(q3 - q1))]\n",
    "\n",
    "    return [student['Student Name'] for student in participants if (int(student[col_name]) < turkey_fence[0] or int(student[col_name]) > turkey_fence[1])]\n",
    "\n",
    "f'Week 1: {tardy_iqr(\"Week 1\")}'"
   ]
  },
  {
   "cell_type": "markdown",
   "id": "fc1fda88-f7cb-4a11-bbed-c1b6ccb9b668",
   "metadata": {},
   "source": [
    "## Experiment 7\n",
    "\n",
    "__7. Create a function tardy_stdev() to return a list of the names for the outliers found using the 99.7% probability rule for a normally distributed dataset.__\n",
    "\n",
    "Function accepts a parameter of 'col_name' which accepts a string of one of the columns in participants.csv and will then calculate the outliers with the 99.7% probability rule of normally distributed data sets and return a list of the names of the students with the matching outlier values. "
   ]
  },
  {
   "cell_type": "code",
   "execution_count": 15,
   "id": "a604eb2b-d5a6-467a-9179-db8e16cf675f",
   "metadata": {},
   "outputs": [
    {
     "data": {
      "text/plain": [
       "\"Week 1: ['Owain Emerson', 'Alaya Dickinson']\""
      ]
     },
     "execution_count": 15,
     "metadata": {},
     "output_type": "execute_result"
    }
   ],
   "source": [
    "def tardy_stdev(col_name):\n",
    "    d = [int(m[col_name]) for m in participants]\n",
    "    d_mean = statistics.mean(d)\n",
    "    sd = statistics.stdev(d)\n",
    "    \n",
    "    return [student['Student Name'] for student in participants if (int(student[col_name]) <= d_mean - 3*sd or int(student[col_name]) >= d_mean + 3*sd)]\n",
    "\n",
    "f'Week 1: {tardy_stdev(\"Week 1\")}'"
   ]
  },
  {
   "cell_type": "markdown",
   "id": "5647d508-d32e-464c-9eb4-151167019d79",
   "metadata": {},
   "source": [
    "## Experiment 8\n",
    "\n",
    "__8. Print results of Week 2 thru Week 5 outlier results from tardy_iqr() and tardy_stdev() and compare__"
   ]
  },
  {
   "cell_type": "code",
   "execution_count": 16,
   "id": "e81f3c3d-8be4-4688-aab3-bf044503c533",
   "metadata": {},
   "outputs": [
    {
     "name": "stdout",
     "output_type": "stream",
     "text": [
      "IQR outlier results of Week 2 - 5:\n",
      "Week 2: ['Yasir Fenton', 'Tamara Cottrell', 'Jazmin Foreman', 'Bear Zuniga', 'Miles Lyons', 'Owain Emerson']\n",
      "Week 3: ['Adrian Ellison', 'Adeline Jordan', 'Jaye Sweeney']\n",
      "Week 4: ['Dora Delacruz', 'Shaquille Wood']\n",
      "Week 5: ['Jazmin Foreman', 'Sanjay Edwards', 'Alfie-James Pierce', 'Adeline Jordan', 'Saffa Brook']\n",
      "\n",
      "Stdev outlier results of Week 2 - 5:\n",
      "Week 2: ['Miles Lyons', 'Owain Emerson']\n",
      "Week 3: ['Adrian Ellison']\n",
      "Week 4: ['Dora Delacruz']\n",
      "Week 5: ['Jazmin Foreman']\n"
     ]
    }
   ],
   "source": [
    "print('IQR outlier results of Week 2 - 5:')\n",
    "print(f'Week 2: {tardy_iqr(\"Week 2\")}')\n",
    "print(f'Week 3: {tardy_iqr(\"Week 3\")}')\n",
    "print(f'Week 4: {tardy_iqr(\"Week 4\")}')\n",
    "print(f'Week 5: {tardy_iqr(\"Week 5\")}\\n')\n",
    "\n",
    "print('Stdev outlier results of Week 2 - 5:')\n",
    "print(f'Week 2: {tardy_stdev(\"Week 2\")}')\n",
    "print(f'Week 3: {tardy_stdev(\"Week 3\")}')\n",
    "print(f'Week 4: {tardy_stdev(\"Week 4\")}')\n",
    "print(f'Week 5: {tardy_stdev(\"Week 5\")}')"
   ]
  },
  {
   "cell_type": "markdown",
   "id": "7a40973c-f48c-4536-8180-3271065fbc5f",
   "metadata": {},
   "source": [
    "#### Results:\n",
    "\n",
    "As seen in the results, the IQR method would produce a larger set of outliers versus the one using the 99.7% rule for standard deviations. It is the same reasoning as when we did the comparison above in Experiment 5, simply because the IQR range is giving the bounds that would be the range of the 68% rule, so the IQR method has a lower probability of being certain about the outliers. Where the stddev method will give the results of values that are almost certainly outliers. "
   ]
  }
 ],
 "metadata": {
  "kernelspec": {
   "display_name": "Python 3 (ipykernel)",
   "language": "python",
   "name": "python3"
  },
  "language_info": {
   "codemirror_mode": {
    "name": "ipython",
    "version": 3
   },
   "file_extension": ".py",
   "mimetype": "text/x-python",
   "name": "python",
   "nbconvert_exporter": "python",
   "pygments_lexer": "ipython3",
   "version": "3.9.6"
  }
 },
 "nbformat": 4,
 "nbformat_minor": 5
}
