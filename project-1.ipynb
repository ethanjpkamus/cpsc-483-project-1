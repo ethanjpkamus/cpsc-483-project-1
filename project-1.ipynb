{
 "cells": [
  {
   "cell_type": "markdown",
   "id": "716422e2-f811-4688-a5ea-7c9bfa24b3c9",
   "metadata": {},
   "source": [
    "Project 1\n",
    "\n",
    "Members:\n",
    "* Ethan Kamus\n",
    "* Nathaniel Matthew Marquez\n",
    "* Rebecca Lee"
   ]
  },
  {
   "cell_type": "code",
   "execution_count": null,
   "id": "5c91b407-9b52-4801-bcd4-49072738578e",
   "metadata": {},
   "outputs": [],
   "source": []
  }
 ],
 "metadata": {
  "kernelspec": {
   "display_name": "Python 3",
   "language": "python",
   "name": "python3"
  },
  "language_info": {
   "codemirror_mode": {
    "name": "ipython",
    "version": 3
   },
   "file_extension": ".py",
   "mimetype": "text/x-python",
   "name": "python",
   "nbconvert_exporter": "python",
   "pygments_lexer": "ipython3",
   "version": "3.8.8"
  }
 },
 "nbformat": 4,
 "nbformat_minor": 5
}
